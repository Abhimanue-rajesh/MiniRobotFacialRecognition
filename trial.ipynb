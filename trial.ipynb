{
 "cells": [
  {
   "cell_type": "markdown",
   "metadata": {},
   "source": [
    "Importing All the Libraries "
   ]
  },
  {
   "cell_type": "code",
   "execution_count": null,
   "metadata": {},
   "outputs": [],
   "source": [
    "import face_recognition\n",
    "import cv2\n",
    "import numpy as np\n",
    "import os"
   ]
  },
  {
   "cell_type": "markdown",
   "metadata": {},
   "source": [
    "Real Time Detection "
   ]
  },
  {
   "cell_type": "code",
   "execution_count": null,
   "metadata": {},
   "outputs": [],
   "source": [
    "# Load a sample picture and learn how to recognize it.\n",
    "my_image = face_recognition.load_image_file(\"image.jpg\")"
   ]
  },
  {
   "cell_type": "code",
   "execution_count": null,
   "metadata": {},
   "outputs": [],
   "source": [
    "# Find all face locations in the image\n",
    "face_locations = face_recognition.face_locations(my_image)"
   ]
  },
  {
   "cell_type": "code",
   "execution_count": null,
   "metadata": {},
   "outputs": [],
   "source": [
    "if not face_locations:\n",
    "    print(\"No faces found in the provided image.\")\n",
    "else:\n",
    "    # If faces are found, encode the first face\n",
    "    my_face_encoding = face_recognition.face_encodings(my_image, face_locations)[0]"
   ]
  },
  {
   "cell_type": "code",
   "execution_count": null,
   "metadata": {},
   "outputs": [],
   "source": [
    "# Create arrays of known face encodings and their names\n",
    "known_face_encodings = [\n",
    "    my_face_encoding\n",
    "]\n",
    "known_face_names = [\n",
    "    \"Abhimanue\",\n",
    "]"
   ]
  },
  {
   "cell_type": "code",
   "execution_count": 14,
   "metadata": {},
   "outputs": [],
   "source": [
    "# Define desired window size\n",
    "desired_width = 640\n",
    "desired_height = 480\n",
    "\n",
    "# Define window name\n",
    "window_name = 'Robot Eyes'\n",
    "\n",
    "# Create output directory if it doesn't exist\n",
    "output_directory = 'captured_faces'\n",
    "os.makedirs(output_directory, exist_ok=True)\n",
    "\n",
    "# Open the video capture (replace with your video source)\n",
    "cap = cv2.VideoCapture(0)  # Or use cap = cv2.VideoCapture('video_name') for video\n",
    "\n",
    "while cap.isOpened():\n",
    "    ret, frame = cap.read()\n",
    "\n",
    "    if not ret:  # Handle frame read errors\n",
    "        print(\"Error reading frame.\")\n",
    "        break\n",
    "\n",
    "    # Resize the frame (optional, if you want to resize before detection)\n",
    "    frame = cv2.resize(frame, (desired_width, desired_height))\n",
    "\n",
    "    # Create or resize the window\n",
    "    cv2.namedWindow(window_name, cv2.WINDOW_NORMAL)\n",
    "    cv2.resizeWindow(window_name, desired_width, desired_height)\n",
    "\n",
    "    # Convert the frame from BGR to RGB (as face_recognition uses RGB)\n",
    "    rgb_frame = frame[:, :, ::-1]\n",
    "\n",
    "    # Find all face locations in the frame\n",
    "    face_locations = face_recognition.face_locations(rgb_frame)\n",
    "\n",
    "    # Save images when faces are detected\n",
    "    for (top, right, bottom, left) in face_locations:\n",
    "        cv2.rectangle(frame, (left, top), (right, bottom), (0, 255, 0), 2)\n",
    "        \n",
    "        # Extract the face region\n",
    "        face_image = frame[top:bottom, left:right]\n",
    "        # Save the detected face image\n",
    "        cv2.imwrite(os.path.join(output_directory, f\"detected_face_{len(os.listdir(output_directory)) + 1}.jpg\"), face_image)\n",
    "\n",
    "\n",
    "    # Show the resized frame\n",
    "    cv2.imshow(window_name, frame)\n",
    "\n",
    "    # Handle key press for quitting\n",
    "    if cv2.waitKey(1) & 0xFF == ord('q'):\n",
    "        break\n",
    "\n",
    "# Release resources\n",
    "cap.release()\n",
    "cv2.destroyAllWindows()"
   ]
  }
 ],
 "metadata": {
  "kernelspec": {
   "display_name": "venv",
   "language": "python",
   "name": "python3"
  },
  "language_info": {
   "codemirror_mode": {
    "name": "ipython",
    "version": 3
   },
   "file_extension": ".py",
   "mimetype": "text/x-python",
   "name": "python",
   "nbconvert_exporter": "python",
   "pygments_lexer": "ipython3",
   "version": "3.11.7"
  }
 },
 "nbformat": 4,
 "nbformat_minor": 2
}
